{
 "cells": [
  {
   "cell_type": "code",
   "execution_count": 2,
   "metadata": {},
   "outputs": [
    {
     "name": "stderr",
     "output_type": "stream",
     "text": [
      "Warning message in pad1.rm.cm(widths, cm.widths, len = num.cols):\n",
      "“NAs introducidos por coerción”"
     ]
    },
    {
     "ename": "ERROR",
     "evalue": "Error in plot.new(): outer margins too large (figure region too small)\n",
     "output_type": "error",
     "traceback": [
      "Error in plot.new(): outer margins too large (figure region too small)\nTraceback:\n",
      "1. filled.contour(z, col = terrain.colors(20))",
      "2. plot.new()"
     ]
    }
   ],
   "source": [
    "read.table('field.dat')-> d\n",
    "\n",
    "smass <- d$V9\n",
    "met <- d$V13\n",
    "wp <- d$V14\n",
    "\n",
    "\n",
    "x <- subset(smass, met > -99 & smass > 8 & smass < 12)\n",
    "y <- subset(met, met> -99 & smass > 8 & smass < 12)\n",
    "w <- subset(wp, met> -99 & smass > 8, smass < 12)\n",
    "\n",
    "\n",
    "\n",
    "#plot(x,y,pch=19, cex=.1,col='grey',xlim=c(8,12),ylim=c(8,10))\n",
    "\n",
    "library(MASS)\n",
    "\n",
    "z <- kde2d(x,y,n=20)\n",
    "#contour(z,col=terrain.colors(20))\n",
    "filled.contour(z,col=terrain.colors(20))\n",
    "#plot.new()"
   ]
  },
  {
   "cell_type": "code",
   "execution_count": null,
   "metadata": {},
   "outputs": [],
   "source": []
  }
 ],
 "metadata": {
  "kernelspec": {
   "display_name": "R",
   "language": "R",
   "name": "ir"
  },
  "language_info": {
   "codemirror_mode": "r",
   "file_extension": ".r",
   "mimetype": "text/x-r-source",
   "name": "R",
   "pygments_lexer": "r",
   "version": "3.5.1"
  }
 },
 "nbformat": 4,
 "nbformat_minor": 2
}
